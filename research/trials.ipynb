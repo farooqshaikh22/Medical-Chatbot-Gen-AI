{
 "cells": [
  {
   "cell_type": "code",
   "execution_count": 1,
   "metadata": {},
   "outputs": [
    {
     "name": "stderr",
     "output_type": "stream",
     "text": [
      "c:\\End to End Projects\\Medical Chatbot Gen AI\\menv\\lib\\site-packages\\pinecone\\index.py:4: TqdmWarning: IProgress not found. Please update jupyter and ipywidgets. See https://ipywidgets.readthedocs.io/en/stable/user_install.html\n",
      "  from tqdm.autonotebook import tqdm\n"
     ]
    }
   ],
   "source": [
    "#importing libraries\n",
    "from langchain import PromptTemplate\n",
    "from langchain.chains import RetrievalQA\n",
    "from langchain.embeddings import HuggingFaceEmbeddings\n",
    "from langchain.vectorstores import Pinecone\n",
    "from langchain.document_loaders import PyPDFLoader,DirectoryLoader\n",
    "from langchain.text_splitter import RecursiveCharacterTextSplitter\n",
    "from langchain.prompts import PromptTemplate\n",
    "from langchain.llms import CTransformers\n",
    "import os\n",
    "import uuid\n",
    "import pinecone\n"
   ]
  },
  {
   "cell_type": "code",
   "execution_count": 2,
   "metadata": {},
   "outputs": [],
   "source": [
    "#extract data from pdf\n",
    "\n",
    "loader = DirectoryLoader(\n",
    "    path='C:\\End to End Projects\\Medical Chatbot Gen AI\\data',\n",
    "    glob='*.pdf',\n",
    "    loader_cls=PyPDFLoader\n",
    "    )\n",
    "documents = loader.load()"
   ]
  },
  {
   "cell_type": "code",
   "execution_count": 3,
   "metadata": {},
   "outputs": [],
   "source": [
    "#creating text chunks\n",
    "\n",
    "text_splitter = RecursiveCharacterTextSplitter(chunk_size=500,chunk_overlap=20)\n",
    "\n",
    "text_chunks = text_splitter.split_documents(documents)"
   ]
  },
  {
   "cell_type": "code",
   "execution_count": 4,
   "metadata": {},
   "outputs": [
    {
     "data": {
      "text/plain": [
       "7020"
      ]
     },
     "execution_count": 4,
     "metadata": {},
     "output_type": "execute_result"
    }
   ],
   "source": [
    "len(text_chunks)"
   ]
  },
  {
   "cell_type": "code",
   "execution_count": 5,
   "metadata": {},
   "outputs": [],
   "source": [
    "##download embedding model\n",
    "def download_huggingface_embeddings():\n",
    "    \n",
    "    embeddings = HuggingFaceEmbeddings(model_name = 'sentence-transformers/all-MiniLM-L6-v2')\n",
    "    \n",
    "    return embeddings"
   ]
  },
  {
   "cell_type": "code",
   "execution_count": 6,
   "metadata": {},
   "outputs": [
    {
     "data": {
      "text/plain": [
       "HuggingFaceEmbeddings(client=SentenceTransformer(\n",
       "  (0): Transformer({'max_seq_length': 256, 'do_lower_case': False}) with Transformer model: BertModel \n",
       "  (1): Pooling({'word_embedding_dimension': 384, 'pooling_mode_cls_token': False, 'pooling_mode_mean_tokens': True, 'pooling_mode_max_tokens': False, 'pooling_mode_mean_sqrt_len_tokens': False})\n",
       "  (2): Normalize()\n",
       "), model_name='sentence-transformers/all-MiniLM-L6-v2', cache_folder=None, model_kwargs={}, encode_kwargs={})"
      ]
     },
     "execution_count": 6,
     "metadata": {},
     "output_type": "execute_result"
    }
   ],
   "source": [
    "embeddings"
   ]
  },
  {
   "cell_type": "code",
   "execution_count": 7,
   "metadata": {},
   "outputs": [
    {
     "name": "stdout",
     "output_type": "stream",
     "text": [
      "384\n"
     ]
    }
   ],
   "source": [
    "query = embeddings.embed_query('Hello')\n",
    "print(len(query))"
   ]
  },
  {
   "cell_type": "code",
   "execution_count": 9,
   "metadata": {},
   "outputs": [],
   "source": [
    "#initializing pinecone\n",
    "pinecone.init(api_key=PINECONE_API_KEY,\n",
    "              environment=PINECONE_API_ENV)\n"
   ]
  },
  {
   "cell_type": "code",
   "execution_count": 10,
   "metadata": {},
   "outputs": [],
   "source": [
    "index_name=\"medical-chatbot\""
   ]
  },
  {
   "cell_type": "code",
   "execution_count": 11,
   "metadata": {},
   "outputs": [],
   "source": [
    "#Creating Embeddings for Each of The Text Chunks & storing\n",
    "docsearch = Pinecone.from_texts([t.page_content for t in text_chunks],\n",
    "                                embedding,\n",
    "                                index_name=index_name)"
   ]
  },
  {
   "cell_type": "code",
   "execution_count": 11,
   "metadata": {},
   "outputs": [
    {
     "name": "stdout",
     "output_type": "stream",
     "text": [
      "[Document(page_content=\"GALE ENCYCLOPEDIA OF MEDICINE 2 117Allergies\\nAllergic rhinitis is commonly triggered by\\nexposure to household dust, animal fur,or pollen. The foreign substance thattriggers an allergic reaction is calledan allergen.\\nThe presence of an allergen causes the\\nbody's lymphocytes to begin producingIgE antibodies. The lymphocytes of an allergy sufferer produce an unusuallylarge amount of IgE.\\nIgE molecules attach to mast\\ncells, which contain histamine.HistaminePollen grains\\nLymphocyte\\nFIRST EXPOSURE\", metadata={}), Document(page_content='allergens are the following:\\n• plant pollens\\n• animal fur and dander\\n• body parts from house mites (microscopic creatures\\nfound in all houses)\\n• house dust• mold spores• cigarette smoke• solvents• cleaners\\nCommon food allergens include the following:\\n• nuts, especially peanuts, walnuts, and brazil nuts\\n• fish, mollusks, and shellfish• eggs• wheat• milk• food additives and preservatives\\nThe following types of drugs commonly cause aller-\\ngic reactions:\\n• penicillin or other antibiotics', metadata={}), Document(page_content='itchy, scratchy nose, eyes, and throat common in aller-gic rhinitis.\\nThe number of possible airborne allergens is enor-', metadata={})]\n"
     ]
    }
   ],
   "source": [
    "#If we already have an index we can load it like this\n",
    "docsearch = Pinecone.from_existing_index(index_name,embedding)\n",
    "\n",
    "query = \"What are Allergies\"\n",
    "docs = docsearch.similarity_search(query,k=3)\n",
    "\n",
    "print(docs)"
   ]
  },
  {
   "cell_type": "code",
   "execution_count": 12,
   "metadata": {},
   "outputs": [],
   "source": [
    "prompt_template=\"\"\"\n",
    "Use the following pieces of information to answer the user's question.\n",
    "If you don't know the answer, just say that you don't know, don't try to make up an answer.\n",
    "\n",
    "Context: {context}\n",
    "Question: {question}\n",
    "\n",
    "Only return the helpful answer below and nothing else.\n",
    "Helpful answer:\n",
    "\"\"\""
   ]
  },
  {
   "cell_type": "code",
   "execution_count": 13,
   "metadata": {},
   "outputs": [],
   "source": [
    "PROMPT = PromptTemplate(template=prompt_template,input_variables=['context','question'])\n",
    "chain_type_kwargs = {'prompt':PROMPT}"
   ]
  },
  {
   "cell_type": "code",
   "execution_count": 14,
   "metadata": {},
   "outputs": [],
   "source": [
    "llm=CTransformers(model=\"C:\\End to End Projects\\Medical Chatbot Gen AI\\model\\llama-2-7b-chat.ggmlv3.q2_K.bin\",\n",
    "                  model_type=\"llama\",\n",
    "                  config={'max_new_tokens':512,\n",
    "                          'temperature':0.8})"
   ]
  },
  {
   "cell_type": "code",
   "execution_count": 15,
   "metadata": {},
   "outputs": [],
   "source": [
    "qa = RetrievalQA.from_chain_type(llm=llm,\n",
    "                            chain_type='stuff',\n",
    "                            retriever=docsearch.as_retriever(search_kwargs={'k':2}),\n",
    "                            return_source_documents = True,\n",
    "                            chain_type_kwargs = chain_type_kwargs)\n",
    "                                           "
   ]
  },
  {
   "cell_type": "code",
   "execution_count": 16,
   "metadata": {},
   "outputs": [
    {
     "name": "stdout",
     "output_type": "stream",
     "text": [
      "{'query': 'what is throid?', 'result': 'Thyroid - (noun) a gland located in the neck that produces hormones that regulate metabolism, growth, and energy.', 'source_documents': [Document(page_content='terone deficiency, steroid therapy, high-sodium diets ,\\ncertain antihypertensive therapies, and Addison’s dis-\\nease (an autoimmune disorder).\\nResources\\nBOOKS\\nJacobs, David S., et al. Laboratory Test Handbook. 4th ed. New\\nYork: Lexi-Comp Inc., 1996.\\nPagana, Kathleen Deska. Mosby’s Manual of Diagnostic and\\nLaboratory Tests. St. Louis: Mosby, Inc., 1998.\\nJanis O. Flores\\nGALE ENCYCLOPEDIA OF MEDICINE 2 101Aldosterone assay\\nKEY TERMS\\nAldosteronism —A condition in which the adrenal', metadata={}), Document(page_content='terone deficiency, steroid therapy, high-sodium diets ,\\ncertain antihypertensive therapies, and Addison’s dis-\\nease (an autoimmune disorder).\\nResources\\nBOOKS\\nJacobs, David S., et al. Laboratory Test Handbook. 4th ed. New\\nYork: Lexi-Comp Inc., 1996.\\nPagana, Kathleen Deska. Mosby’s Manual of Diagnostic and\\nLaboratory Tests. St. Louis: Mosby, Inc., 1998.\\nJanis O. Flores\\nGALE ENCYCLOPEDIA OF MEDICINE 2 101Aldosterone assay\\nKEY TERMS\\nAldosteronism —A condition in which the adrenal', metadata={})]}\n"
     ]
    }
   ],
   "source": [
    "user_input = input(f'Input Prompt:')\n",
    "result = qa({'query':user_input})\n",
    "print(result)"
   ]
  },
  {
   "cell_type": "code",
   "execution_count": null,
   "metadata": {},
   "outputs": [
    {
     "name": "stdout",
     "output_type": "stream",
     "text": [
      "{'query': 'what is thyroid?', 'result': \"Thyroid is a gland located in the neck, just above the Adam's apple. It produces hormones that regulate metabolism, growth, and development. Thyroid hormones control how quickly cells use energy from nutrients and oxygen to perform their functions.\", 'source_documents': [Document(page_content='binds to cells in the thyroid gland. Unlike in Grave’sdisease, however, this antibody’s action results in lessthyroid hormone being made.\\n• Pemphigus vulgaris. A group of autoimmune disorders\\nthat affect the skin.\\n•Myasthenia gravis . A condition in which the immune\\nsystem attacks a receptor on the surface of muscle cells,preventing the muscle from receiving nerve impulsesand resulting in severe muscle weakness.\\n•Scleroderma . Also called CREST syndrome or pro-', metadata={}), Document(page_content='deposited in the membranes of both the lung and kid-neys, causing both inflammation of kidney glomerulus(glomerulonephritis ) and lung bleeding. It is typically\\na disease of young males.\\n• Grave’s disease. Caused by an antibody that binds to\\nspecific cells in the thyroid gland, causing them tomake excessive amounts of thyroid hormone.\\n• Hashimoto’s thyroiditis . Caused by an antibody that', metadata={})]}\n"
     ]
    }
   ],
   "source": [
    "user_input = input(f'Input Prompt:')\n",
    "result = qa({'query':user_input})\n",
    "print(result)"
   ]
  },
  {
   "cell_type": "code",
   "execution_count": 17,
   "metadata": {},
   "outputs": [
    {
     "name": "stdout",
     "output_type": "stream",
     "text": [
      "{'query': 'what is symptoms of malaria?', 'result': 'The symptoms of malaria include fever, chills, headache, muscle and joint pain, fatigue, nausea, vomiting, diarrhea, abdominal pain, rapid breathing, and wheezing or difficulty breathing in adults. In children, the symptoms may also include fever, vomiting, diarrhea, abdominal pain, and difficulty breathing.', 'source_documents': [Document(page_content='• painful, bluish or purplish fingers or toes\\n• puffy or swollen eyelids, face, feet, or lower legs\\n• changes in the color of the face• skin rash, itching , or hives\\n• yellow eyes or skin\\n• severe or continuing headache\\n• sore throat and fever, with or without chills• breathing problems or wheezing\\n• tightness in the chest\\n• dizziness\\n• unusual tiredness or weakness• weight gain\\nIn addition, patients taking anticoagulant drugs', metadata={}), Document(page_content='that occurs in tropical, subtropical, and some temperateregions of the world. The disease is caused by a parasite,Plasmodium , which belongs to a group of one-celled', metadata={})]}\n"
     ]
    }
   ],
   "source": [
    "user_input = input(f'Input Prompt:')\n",
    "result = qa({'query':user_input})\n",
    "print(result)"
   ]
  },
  {
   "cell_type": "code",
   "execution_count": 18,
   "metadata": {},
   "outputs": [
    {
     "name": "stdout",
     "output_type": "stream",
     "text": [
      "{'query': 'what is severe fever?', 'result': 'Severe fever refers to a high temperature, typically above 103°F (39.4°C), that is accompanied by symptoms such as headache, muscle aches, fatigue, and discomfort.', 'source_documents': [Document(page_content='his or her doctor immediately or go to an emergencyroom. Acute lymphangitis could be diagnosed by thefamily doctor, infectious disease specialist, or an emer-gency room doctor. The painful, red streaks just belowthe skin surface and the high fever are diagnostic of acutelymphangitis. A sample of blood would be taken for cul-ture to determine whether the bacteria have entered thebloodstream. A biopsy (removal of a piece of infectedtissue) sample may be taken for culture to identify whichKEY', metadata={}), Document(page_content='his or her doctor immediately or go to an emergencyroom. Acute lymphangitis could be diagnosed by thefamily doctor, infectious disease specialist, or an emer-gency room doctor. The painful, red streaks just belowthe skin surface and the high fever are diagnostic of acutelymphangitis. A sample of blood would be taken for cul-ture to determine whether the bacteria have entered thebloodstream. A biopsy (removal of a piece of infectedtissue) sample may be taken for culture to identify whichKEY', metadata={})]}\n"
     ]
    }
   ],
   "source": [
    "user_input = input(f'Input Prompt:')\n",
    "result = qa({'query':user_input})\n",
    "print(result)"
   ]
  },
  {
   "cell_type": "code",
   "execution_count": null,
   "metadata": {},
   "outputs": [],
   "source": []
  }
 ],
 "metadata": {
  "kernelspec": {
   "display_name": "Python 3",
   "language": "python",
   "name": "python3"
  },
  "language_info": {
   "codemirror_mode": {
    "name": "ipython",
    "version": 3
   },
   "file_extension": ".py",
   "mimetype": "text/x-python",
   "name": "python",
   "nbconvert_exporter": "python",
   "pygments_lexer": "ipython3",
   "version": "3.9.0"
  }
 },
 "nbformat": 4,
 "nbformat_minor": 2
}
